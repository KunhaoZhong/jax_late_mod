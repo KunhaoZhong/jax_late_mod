{
 "cells": [
  {
   "cell_type": "code",
   "execution_count": null,
   "id": "f6b319e8",
   "metadata": {},
   "outputs": [],
   "source": []
  },
  {
   "cell_type": "code",
   "execution_count": 3,
   "id": "13d86845",
   "metadata": {},
   "outputs": [
    {
     "name": "stdout",
     "output_type": "stream",
     "text": [
      "%pylab is deprecated, use %matplotlib inline and import the required libraries.\n",
      "Populating the interactive namespace from numpy and matplotlib\n"
     ]
    }
   ],
   "source": [
    "%pylab inline\n",
    "import os.path\n",
    "import jax\n",
    "import sys\n",
    "sys.path.append('/Users/kunhao/Dropbox/code/projects/jax_late_mod/jax_cosmo_late_mod')\n",
    "import jax.numpy as np\n",
    "import jax_cosmo as jc"
   ]
  },
  {
   "cell_type": "code",
   "execution_count": 9,
   "id": "3090bcc1",
   "metadata": {},
   "outputs": [
    {
     "ename": "NameError",
     "evalue": "name 'ell' is not defined",
     "output_type": "error",
     "traceback": [
      "\u001b[0;31m---------------------------------------------------------------------------\u001b[0m",
      "\u001b[0;31mNameError\u001b[0m                                 Traceback (most recent call last)",
      "Cell \u001b[0;32mIn[9], line 12\u001b[0m\n\u001b[1;32m     10\u001b[0m \u001b[38;5;66;03m# We can now evaluate the jacobian at the fiducial cosmology\u001b[39;00m\n\u001b[1;32m     11\u001b[0m params \u001b[38;5;241m=\u001b[39m [\u001b[38;5;241m0.3\u001b[39m, \u001b[38;5;241m0.8\u001b[39m]\n\u001b[0;32m---> 12\u001b[0m dmu \u001b[38;5;241m=\u001b[39m \u001b[43mjac_mean\u001b[49m\u001b[43m(\u001b[49m\u001b[43mparams\u001b[49m\u001b[43m)\u001b[49m\n\u001b[1;32m     13\u001b[0m \u001b[38;5;66;03m# Now we can compose the Fisher matrix\u001b[39;00m\n\u001b[1;32m     14\u001b[0m F \u001b[38;5;241m=\u001b[39m jc\u001b[38;5;241m.\u001b[39msparse\u001b[38;5;241m.\u001b[39mdot(dmu\u001b[38;5;241m.\u001b[39mT, jc\u001b[38;5;241m.\u001b[39msparse\u001b[38;5;241m.\u001b[39minv(cov), dmu)\n",
      "    \u001b[0;31m[... skipping hidden 30 frame]\u001b[0m\n",
      "Cell \u001b[0;32mIn[9], line 5\u001b[0m, in \u001b[0;36mjc_mean\u001b[0;34m(p)\u001b[0m\n\u001b[1;32m      3\u001b[0m cosmo \u001b[38;5;241m=\u001b[39m jc\u001b[38;5;241m.\u001b[39mPlanck15(Omega_c\u001b[38;5;241m=\u001b[39mp[\u001b[38;5;241m0\u001b[39m], sigma8\u001b[38;5;241m=\u001b[39mp[\u001b[38;5;241m1\u001b[39m])\n\u001b[1;32m      4\u001b[0m \u001b[38;5;66;03m# Compute signal vector\u001b[39;00m\n\u001b[0;32m----> 5\u001b[0m mu \u001b[38;5;241m=\u001b[39m jc\u001b[38;5;241m.\u001b[39mangular_cl\u001b[38;5;241m.\u001b[39mangular_cl(cosmo, \u001b[43mell\u001b[49m, tracers)\n\u001b[1;32m      6\u001b[0m \u001b[38;5;66;03m# We want mu in 1d to match the covariance matrix\u001b[39;00m\n\u001b[1;32m      7\u001b[0m \u001b[38;5;28;01mreturn\u001b[39;00m mu\u001b[38;5;241m.\u001b[39mflatten()\n",
      "\u001b[0;31mNameError\u001b[0m: name 'ell' is not defined"
     ]
    }
   ],
   "source": [
    "@jax.jit\n",
    "def jc_mean(p):\n",
    "    cosmo = jc.Planck15(Omega_c=p[0], sigma8=p[1])\n",
    "    # Compute signal vector\n",
    "    mu = jc.angular_cl.angular_cl(cosmo, ell, tracers)\n",
    "    # We want mu in 1d to match the covariance matrix\n",
    "    return mu.flatten()\n",
    "# We compute its jacobian with JAX, and we JIT it for efficiency\n",
    "jac_mean = jax.jit(jax.jacfwd(jc_mean))\n",
    "# We can now evaluate the jacobian at the fiducial cosmology\n",
    "params = [0.3, 0.8]\n",
    "dmu = jac_mean(params)\n",
    "# Now we can compose the Fisher matrix\n",
    "F = jc.sparse.dot(dmu.T, jc.sparse.inv(cov), dmu)"
   ]
  },
  {
   "cell_type": "code",
   "execution_count": null,
   "id": "f2e22c30",
   "metadata": {},
   "outputs": [],
   "source": []
  }
 ],
 "metadata": {
  "kernelspec": {
   "display_name": "py38",
   "language": "python",
   "name": "py38"
  },
  "language_info": {
   "codemirror_mode": {
    "name": "ipython",
    "version": 3
   },
   "file_extension": ".py",
   "mimetype": "text/x-python",
   "name": "python",
   "nbconvert_exporter": "python",
   "pygments_lexer": "ipython3",
   "version": "3.8.16"
  }
 },
 "nbformat": 4,
 "nbformat_minor": 5
}
