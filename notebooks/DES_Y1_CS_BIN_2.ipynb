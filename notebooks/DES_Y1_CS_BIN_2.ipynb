{
 "cells": [
  {
   "cell_type": "markdown",
   "metadata": {
    "colab_type": "text",
    "id": "view-in-github"
   },
   "source": [
    "<a href=\"https://colab.research.google.com/github/DifferentiableUniverseInitiative/jax-cosmo-paper/blob/master/notebooks/DES_Y1_3x2pt_demo.ipynb\" target=\"_parent\"><img src=\"https://colab.research.google.com/assets/colab-badge.svg\" alt=\"Open In Colab\"/></a>"
   ]
  },
  {
   "cell_type": "markdown",
   "metadata": {
    "id": "Qe6eYpE29nm4"
   },
   "source": [
    "# Illustration of JAX-cosmo on a DES Y1-like analysis"
   ]
  },
  {
   "cell_type": "code",
   "execution_count": null,
   "metadata": {
    "colab": {
     "base_uri": "https://localhost:8080/"
    },
    "id": "vb2eoFkI9nm7",
    "outputId": "80a1c1a3-b0db-402c-8472-a9e18b15486e"
   },
   "outputs": [],
   "source": [
    "# In this notebook we fix cosmo and nuissance parameters, only vary late-bin parameters\n",
    "\n",
    "%pylab inline\n",
    "import sys\n",
    "sys.path.append('/global/common/software/des/kunhaoz/jax_cosmo_late_mod') #common system\n",
    "import os\n",
    "import jax\n",
    "import jax.numpy as np\n",
    "import jax_cosmo as jc\n",
    "import numpy as onp\n",
    "\n",
    "os.environ[\"CUDA_VISIBLE_DEVICES\"]=\"3\""
   ]
  },
  {
   "cell_type": "markdown",
   "metadata": {
    "id": "2QndUBlr9nm9"
   },
   "source": [
    "## Retrieving  the nz data"
   ]
  },
  {
   "cell_type": "code",
   "execution_count": null,
   "metadata": {
    "colab": {
     "base_uri": "https://localhost:8080/"
    },
    "id": "HlwTrpBg9nm9",
    "outputId": "9989c8e1-c244-4a21-dc09-5deaf98a160b"
   },
   "outputs": [],
   "source": [
    "# Let's grab the data file\n",
    "from astropy.io import fits\n",
    "if not os.path.isfile('2pt_NG_mcal_1110.fits'):\n",
    "    !wget http://desdr-server.ncsa.illinois.edu/despublic/y1a1_files/chains/2pt_NG_mcal_1110.fits\n",
    "\n",
    "nz_source=fits.getdata('2pt_NG_mcal_1110.fits', 6)\n",
    "nz_lens=fits.getdata('2pt_NG_mcal_1110.fits', 7)"
   ]
  },
  {
   "cell_type": "code",
   "execution_count": null,
   "metadata": {
    "colab": {
     "base_uri": "https://localhost:8080/",
     "height": 259
    },
    "id": "Fsjc0LWk9nm-",
    "outputId": "6956615c-c884-46d3-baa8-c1e07353fca1"
   },
   "outputs": [],
   "source": [
    "# Let's plot the NZs\n",
    "figure(figsize=(9,3))\n",
    "subplot(121)\n",
    "plot(nz_source['Z_MID'], nz_source['BIN1'])\n",
    "plot(nz_source['Z_MID'], nz_source['BIN2'])\n",
    "plot(nz_source['Z_MID'], nz_source['BIN3'])\n",
    "plot(nz_source['Z_MID'], nz_source['BIN4'])\n",
    "xlim(0,2);\n",
    "xlabel('z')\n",
    "title('Source redshift distributions')\n",
    "subplot(122)\n",
    "plot(nz_lens['Z_MID'], nz_lens['BIN1'])\n",
    "plot(nz_lens['Z_MID'], nz_lens['BIN2'])\n",
    "plot(nz_lens['Z_MID'], nz_lens['BIN3'])\n",
    "plot(nz_lens['Z_MID'], nz_lens['BIN4'])\n",
    "plot(nz_lens['Z_MID'], nz_lens['BIN5'])\n",
    "xlim(0,2);\n",
    "title('Lens redshift distributions');\n",
    "xlabel('z')"
   ]
  },
  {
   "cell_type": "code",
   "execution_count": null,
   "metadata": {
    "id": "jKiwQ72V9nm_"
   },
   "outputs": [],
   "source": [
    "# Now let's try to build the equivalent with jax-cosmo\n",
    "\n",
    "# This is the effective number of sources from the cosmic shear paper\n",
    "neff_s = [1.47, 1.46, 1.50, 0.73]\n",
    "\n",
    "nzs_s = [jc.redshift.kde_nz(nz_source['Z_MID'].astype('float32'),\n",
    "                            nz_source['BIN%d'%i].astype('float32'), \n",
    "                            bw=0.01,\n",
    "                            gals_per_arcmin2=neff_s[i-1])\n",
    "           for i in range(1,5)]\n",
    "\n",
    "nzs_l = [jc.redshift.kde_nz(nz_lens['Z_MID'].astype('float32'),\n",
    "                              nz_lens['BIN%d'%i].astype('float32'), bw=0.01)\n",
    "           for i in range(1,6)]"
   ]
  },
  {
   "cell_type": "code",
   "execution_count": null,
   "metadata": {
    "colab": {
     "base_uri": "https://localhost:8080/",
     "height": 230
    },
    "id": "-IHIUMM_9nnA",
    "outputId": "bfb2cc87-e43c-49e3-b55b-464de0746411"
   },
   "outputs": [],
   "source": [
    "z = linspace(0,2)\n",
    "figure(figsize=(9,3))\n",
    "subplot(121)\n",
    "\n",
    "for i in range(4):\n",
    "    plot(nz_source['Z_MID'], nz_source['BIN%d'%(i+1)], color='C%d'%i)\n",
    "    plot(z, nzs_s[i](z), '--', color='C%d'%i)\n",
    "\n",
    "xlim(0,2)\n",
    "subplot(122)\n",
    "\n",
    "for i in range(5):\n",
    "    plot(nz_lens['Z_MID'], nz_lens['BIN%d'%(i+1)], color='C%d'%i)\n",
    "    plot(z, nzs_l[i](z), '--', color='C%d'%i)\n",
    "xlim(0,1)"
   ]
  },
  {
   "cell_type": "markdown",
   "metadata": {
    "id": "fJsAEZT89nnB"
   },
   "source": [
    "##  Let's build  a model for C_ell"
   ]
  },
  {
   "cell_type": "code",
   "execution_count": null,
   "metadata": {
    "colab": {
     "base_uri": "https://localhost:8080/"
    },
    "id": "vb5bDyOr9nnB",
    "outputId": "8870e16d-cf53-4c53-cc09-767d5c1c56f0"
   },
   "outputs": [],
   "source": [
    "# First, let's define a function to go to and from a 1d parameter vector\n",
    "def get_params_vec(cosmo):\n",
    "\n",
    "    return np.array([ \n",
    "        # KZ: late time mod parameters\n",
    "        cosmo.a_late[0],cosmo.a_late[1], cosmo.a_late[2],cosmo.a_late[3], cosmo.a_late[4],\n",
    "        cosmo.b_late[0],cosmo.b_late[1], cosmo.b_late[2],cosmo.b_late[3], cosmo.b_late[4]\n",
    "    ])\n",
    "    \n",
    "def unpack_params_vec(params):\n",
    "    # Retrieve cosmology\n",
    "    cosmo = jc.Cosmology(sigma8=0.8159, Omega_c=0.2589, Omega_b=0.04860,\n",
    "                         h=0.6774, n_s=0.9667, w0=-1.0, # Fix w0=-1\n",
    "                         Omega_k=0., wa=0.,\n",
    "                         a_late=[params[0], params[1], params[2], params[3], params[4]], z_mod_form=\"bin_fixed\",\n",
    "                         b_late=[params[5], params[6], params[7], params[8], params[9]], k_mod_form=\"bin_fixed\",)\n",
    "    m1,m2,m3,m4 = [0.0,0.0,0.0,0.0]\n",
    "    dz1,dz2,dz3,dz4 =  [0.0,0.0,0.0,0.0]\n",
    "    A = 0.5\n",
    "    eta = 0.0\n",
    "    return cosmo, [m1,m2,m3,m4], [dz1,dz2,dz3,dz4], [A, eta]\n",
    "\n"
   ]
  },
  {
   "cell_type": "code",
   "execution_count": null,
   "metadata": {
    "id": "EkqokIjO9nnD"
   },
   "outputs": [],
   "source": [
    "# Define some ell range\n",
    "ell = np.logspace(1, 3)\n",
    "\n",
    "@jax.jit\n",
    "def mu(params):\n",
    "    # First unpack parameter vector\n",
    "    cosmo, m, dz, (A, eta) = unpack_params_vec(params) \n",
    "\n",
    "    # Build source nz with redshift systematic bias\n",
    "    nzs_s_sys = [jc.redshift.systematic_shift(nzi, dzi) \n",
    "                for nzi, dzi in zip(nzs_s, dz)]\n",
    "\n",
    "    # Define IA model, z0 is fixed\n",
    "    b_ia = jc.bias.des_y1_ia_bias(A, eta, 0.62)\n",
    "\n",
    "    # Define the lensing and number counts probe\n",
    "    probes = [jc.probes.WeakLensing(nzs_s_sys, \n",
    "                                    ia_bias=b_ia,\n",
    "                                    multiplicative_bias=m),\n",
    "             ]\n",
    "    cl = jc.angular_cl.noise_cl(ell, probes)\n",
    "    \n",
    "    return cl"
   ]
  },
  {
   "cell_type": "code",
   "execution_count": null,
   "metadata": {
    "id": "9v7zAfOn9nnE"
   },
   "outputs": [],
   "source": [
    "# Let's try it out\n",
    "fid_cosmo = jc.Cosmology(sigma8=0.801,\n",
    "                          Omega_c=0.2545,\n",
    "                          Omega_b=0.0485,\n",
    "                          h=0.682,\n",
    "                          n_s=0.971,\n",
    "                          w0=-1., Omega_k=0., wa=0.,\n",
    "                          a_late=[0.0, 0.0, 0.0, 0.0, 0.0], z_mod_form=\"bin_fixed\",\n",
    "                          b_late=[0.0, 0.0, 0.0, 0.0, 0.0], k_mod_form=\"bin_fixed\",\n",
    "                        )\n",
    "\n",
    "fid_params = get_params_vec(fid_cosmo)"
   ]
  },
  {
   "cell_type": "code",
   "execution_count": null,
   "metadata": {
    "colab": {
     "base_uri": "https://localhost:8080/"
    },
    "id": "wRmLt9Ls9nnE",
    "outputId": "31cc64f6-1f08-4c5a-e0b0-3de752aefc8e"
   },
   "outputs": [],
   "source": [
    "cl_3x2pt = mu(fid_params)"
   ]
  },
  {
   "cell_type": "code",
   "execution_count": null,
   "metadata": {
    "tags": []
   },
   "outputs": [],
   "source": [
    "print(cl_3x2pt.shape)\n",
    "print(cl_3x2pt[0])\n",
    "\n",
    "fig, axes = plt.subplots(2, 5, figsize=(15, 5))\n",
    "for i in range(2):\n",
    "    for j in range(5):\n",
    "        ax = axes[i][j]\n",
    "        ax.plot(ell, cl_3x2pt[i*5 + j])"
   ]
  },
  {
   "cell_type": "code",
   "execution_count": null,
   "metadata": {
    "id": "6gBY2AOS9nnF"
   },
   "outputs": [],
   "source": [
    "## Building a Fisher matrix, we just need the covarianc\n",
    "@jax.jit\n",
    "def cov(params):\n",
    "    \n",
    "    cl_signal = mu(params)\n",
    "    \n",
    "    # First unpack parameter vector\n",
    "    cosmo, m, dz, (A, eta) = unpack_params_vec(params) \n",
    "    \n",
    "    # Build source nz with redshift systematic bias\n",
    "    nzs_s_sys = [jc.redshift.systematic_shift(nzi, dzi) \n",
    "                for nzi, dzi in zip(nzs_s, dz)]\n",
    "    \n",
    "    # Define IA model, z0 is fixed\n",
    "    b_ia = jc.bias.des_y1_ia_bias(A, eta, 0.62)\n",
    "\n",
    "    \n",
    "    # Define the lensing and number counts probe\n",
    "    probes = [jc.probes.WeakLensing(nzs_s_sys, \n",
    "                                    ia_bias=b_ia,\n",
    "                                    multiplicative_bias=m),\n",
    "             ]\n",
    "    \n",
    "    cl_noise = jc.angular_cl.noise_cl(ell, probes)\n",
    "    \n",
    "    cov = jc.angular_cl.gaussian_cl_covariance(ell, probes, cl_signal, cl_noise, f_sky=0.25, \n",
    "                                               sparse=False)\n",
    "    \n",
    "    return cov"
   ]
  },
  {
   "cell_type": "code",
   "execution_count": null,
   "metadata": {
    "colab": {
     "base_uri": "https://localhost:8080/"
    },
    "id": "X8sNqzkZ9nnF",
    "outputId": "8df82895-dcd4-478b-db74-bce8a6f6a1df"
   },
   "outputs": [],
   "source": [
    "C = cov(fid_params)\n",
    "\n",
    "print(C.shape)\n",
    "\n",
    "print(onp.where(C[0]!=0))"
   ]
  },
  {
   "cell_type": "code",
   "execution_count": null,
   "metadata": {
    "tags": []
   },
   "outputs": [],
   "source": [
    "print(C[0][onp.where(C[0]!=0)])"
   ]
  },
  {
   "cell_type": "code",
   "execution_count": null,
   "metadata": {
    "id": "KVt4MpCj9nnG"
   },
   "outputs": [],
   "source": [
    "jacobian = jax.jit(jax.jacfwd(lambda p: mu(p).flatten()))"
   ]
  },
  {
   "cell_type": "code",
   "execution_count": null,
   "metadata": {
    "colab": {
     "base_uri": "https://localhost:8080/"
    },
    "id": "T_DNr3mR9nnG",
    "outputId": "4174c5fd-87ea-4110-c419-210c7bea4bcd"
   },
   "outputs": [],
   "source": [
    "j = jacobian(fid_params)"
   ]
  },
  {
   "cell_type": "code",
   "execution_count": null,
   "metadata": {
    "colab": {
     "base_uri": "https://localhost:8080/"
    },
    "id": "oLzvIkZGA8SQ",
    "outputId": "993b2aca-6346-4907-d251-3857e9e62eb4"
   },
   "outputs": [],
   "source": [
    "%timeit jacobian(fid_params).block_until_ready()"
   ]
  },
  {
   "cell_type": "code",
   "execution_count": null,
   "metadata": {
    "id": "Rchxp1Jc9nnG"
   },
   "outputs": [],
   "source": [
    "import scipy\n",
    "\n",
    "def symmetrized_matrix(U):\n",
    "    u\"\"\"Return a new matrix like `U`, but with upper-triangle elements copied to lower-triangle ones.\"\"\"\n",
    "    M = U.copy()\n",
    "    inds = onp.triu_indices_from(M,k=1)\n",
    "    M[(inds[1], inds[0])] = M[inds]\n",
    "    return M\n",
    "\n",
    "\n",
    "\n",
    "def symmetric_positive_definite_inverse(M):\n",
    "    u\"\"\"Compute the inverse of a symmetric positive definite matrix `M`.\n",
    "\n",
    "    A :class:`ValueError` will be thrown if the computation cannot be\n",
    "    completed.\n",
    "\n",
    "    \"\"\"\n",
    "    import scipy.linalg\n",
    "    U,status = scipy.linalg.lapack.dpotrf(M)\n",
    "    if status != 0:\n",
    "        raise ValueError(\"Non-symmetric positive definite matrix\")\n",
    "    M,status = scipy.linalg.lapack.dpotri(U)\n",
    "    if status != 0:\n",
    "        raise ValueError(\"Error in Cholesky factorization\")\n",
    "    M = symmetrized_matrix(M)\n",
    "    return M"
   ]
  },
  {
   "cell_type": "code",
   "execution_count": null,
   "metadata": {
    "id": "ZrPX_4W79nnI"
   },
   "outputs": [],
   "source": [
    "j64 = onp.array(j).astype(onp.float64)\n",
    "C64 = onp.array(C).astype(onp.float64)"
   ]
  },
  {
   "cell_type": "code",
   "execution_count": null,
   "metadata": {
    "id": "r0gHlB2k9nnI"
   },
   "outputs": [],
   "source": [
    "# And we get the fisher matrix from the jacobian and covariance\n",
    "CC = symmetric_positive_definite_inverse(C64)\n",
    "F = onp.einsum('ia,ij,jb->ab', j64, CC, j64)\n",
    "F = 0.5*(F + F.T)\n",
    "\n",
    "print(F.shape)"
   ]
  },
  {
   "cell_type": "code",
   "execution_count": null,
   "metadata": {
    "tags": []
   },
   "outputs": [],
   "source": [
    "#KZ testing\n",
    "\n",
    "test = onp.dot(j64.T, j64)\n",
    "\n",
    "print(test[2], j64[0])"
   ]
  },
  {
   "cell_type": "code",
   "execution_count": null,
   "metadata": {
    "id": "tflhrxY-9nnJ"
   },
   "outputs": [],
   "source": [
    "cov_estimate = symmetric_positive_definite_inverse(F)\n",
    "onp.savetxt('cov_estimate_from_fisher.txt', cov_estimate)\n"
   ]
  },
  {
   "cell_type": "code",
   "execution_count": null,
   "metadata": {
    "colab": {
     "base_uri": "https://localhost:8080/"
    },
    "id": "kG44iX2M9nnJ",
    "outputId": "2c33469c-7100-4ac0-a4cf-9082c2c01bf5"
   },
   "outputs": [],
   "source": [
    "def is_symmetric(X):\n",
    "    return onp.all(X == X.T)\n",
    "\n",
    "is_symmetric(F)"
   ]
  },
  {
   "cell_type": "code",
   "execution_count": null,
   "metadata": {
    "id": "5qJuA_Za9nnK"
   },
   "outputs": [],
   "source": [
    "import matplotlib.pyplot as plt\n",
    "from matplotlib.patches import Ellipse\n",
    "\n",
    "def plot_contours(fisher, pos, i, j, nstd=1., ax=None, resize=False, **kwargs):\n",
    "  \"\"\"\n",
    "  Plot 2D parameter contours given a Hessian matrix of the likelihood\n",
    "  \"\"\"\n",
    "  \n",
    "  def eigsorted(cov):\n",
    "    vals, vecs = linalg.eigh(cov)\n",
    "    order = vals.argsort()[::-1]\n",
    "    return vals[order], vecs[:, order]\n",
    "\n",
    "  mat = fisher\n",
    "  cov = np.linalg.inv(mat)\n",
    "  sigma_marg = lambda i: np.sqrt(cov[i, i])\n",
    "\n",
    "  if ax is None:\n",
    "      ax = plt.gca()\n",
    "\n",
    "  # Extracts the block we are interested in\n",
    "  cov = cov[:,[i,j]][[i,j],:]\n",
    "  vals, vecs = eigsorted(cov)\n",
    "  theta = degrees(np.arctan2(*vecs[:, 0][::-1]))\n",
    "\n",
    "  # Width and height are \"full\" widths, not radius\n",
    "  width, height = 2 * nstd * sqrt(vals)\n",
    "  xy = [pos[i], pos[j]]\n",
    "  ellip = Ellipse(xy=xy, width=width,\n",
    "                  height=height, angle=theta, **kwargs)\n",
    "\n",
    "  ax.add_artist(ellip)\n",
    "  if resize:\n",
    "    sz = max(width, height)\n",
    "    s1 = 1.5*nstd*sigma_marg(i)\n",
    "    s2 = 1.5*nstd*sigma_marg(j)\n",
    "    ax.set_xlim(pos[i] - s1, pos[i] + s1)\n",
    "    ax.set_ylim(pos[j] - s2, pos[j] + s2)\n",
    "  plt.draw()\n",
    "  return ellip"
   ]
  },
  {
   "cell_type": "code",
   "execution_count": null,
   "metadata": {
    "colab": {
     "base_uri": "https://localhost:8080/"
    },
    "id": "S9-zVYKC9nnK",
    "outputId": "cbc68463-6795-48bd-cb10-638037741fba"
   },
   "outputs": [],
   "source": [
    "fid_params"
   ]
  },
  {
   "cell_type": "code",
   "execution_count": null,
   "metadata": {},
   "outputs": [],
   "source": [
    "print(F)"
   ]
  },
  {
   "cell_type": "code",
   "execution_count": null,
   "metadata": {
    "colab": {
     "base_uri": "https://localhost:8080/",
     "height": 287
    },
    "id": "ebW83SA49nnL",
    "outputId": "3f32aa2a-f16f-4b40-abe4-fe6a57d07b14"
   },
   "outputs": [],
   "source": [
    "names = ['a_late_1','a_late_2','a_late_3','a_late_4','a_late_5',\n",
    "         'b_late_1','b_late_2','b_late_3','b_late_4','b_late_5',\n",
    "        ]\n",
    "\n",
    "nparam = len(names)\n",
    "nplot = nparam\n",
    "fig, axes = plt.subplots(nplot, nplot, figsize=(2*nplot,2*nplot), sharex=False, sharey=False)\n",
    "pmin = [-0.5 for i in range(10)]\n",
    "pmax = [0.5 for i in range(10)]\n",
    "for i, name1 in enumerate(names[:]):\n",
    "    for j, name2 in enumerate(names[:]):\n",
    "        if i>=nplot or j >= nplot:\n",
    "            continue\n",
    "        ax = axes[i, j]\n",
    "        if i < j:\n",
    "            fig.delaxes(ax)\n",
    "            continue\n",
    "        if i == j:\n",
    "            ax.set_xlim(pmin[i], pmax[i])\n",
    "        else:\n",
    "            plot_contours(F, fid_params, j, i, ax=ax, edgecolor='r', facecolor='none')\n",
    "            ax.set_xlim(pmin[j], pmax[j])\n",
    "            ax.set_ylim(pmin[i], pmax[i])\n",
    "        if j == 0:\n",
    "            ax.set_ylabel(name1)\n",
    "        else:\n",
    "            ax.get_yaxis().set_visible(False)\n",
    "\n",
    "        if i == nplot-1:\n",
    "            ax.set_xlabel(name2)\n",
    "        else:\n",
    "            ax.get_xaxis().set_visible(False)\n",
    "subplots_adjust(wspace=0.05)\n",
    "subplots_adjust(hspace=0.05)"
   ]
  },
  {
   "cell_type": "code",
   "execution_count": null,
   "metadata": {
    "tags": []
   },
   "outputs": [],
   "source": [
    "cov_param = symmetric_positive_definite_inverse(F)\n",
    "print(\"is symmetric\",is_symmetric(cov_param))\n",
    "\n",
    "print(\"is hermitian\", scipy.linalg.ishermitian(cov_param))"
   ]
  },
  {
   "cell_type": "code",
   "execution_count": null,
   "metadata": {
    "tags": []
   },
   "outputs": [],
   "source": [
    "figure(figsize=(10,10))\n",
    "# Here we convert the covariance matrix from sparse to dense reprensentation\n",
    "# for plotting\n",
    "imshow(cov_param);\n",
    "plt.colorbar()"
   ]
  },
  {
   "cell_type": "code",
   "execution_count": null,
   "metadata": {
    "tags": []
   },
   "outputs": [],
   "source": [
    "eig_vals, eig_vecs = np.linalg.eigh(cov_param)"
   ]
  },
  {
   "cell_type": "code",
   "execution_count": null,
   "metadata": {
    "tags": []
   },
   "outputs": [],
   "source": [
    "# Make a list of (eigenvalue, eigenvector) tuples\n",
    "eig_pairs = [(np.abs(eig_vals[i]), eig_vecs[:,i]) for i in range(len(eig_vals))]\n",
    "\n",
    "# Sort the (eigenvalue, eigenvector) tuples from high to low\n",
    "eig_pairs.sort(key=lambda x: x[0], reverse=False)\n",
    "\n",
    "# Confirm that the list is correctly sorted by decreasing eigenvalues\n",
    "print('Eigenvalues in ascending order:')\n",
    "for i in eig_pairs:\n",
    "    print(i[0])\n",
    "    \n",
    "# Select first two PC\n",
    "PC1 = onp.array(eig_pairs[0][1])\n",
    "PC2 = onp.array(eig_pairs[1][1])\n",
    "PC3 = onp.array(eig_pairs[2][1])"
   ]
  },
  {
   "cell_type": "code",
   "execution_count": null,
   "metadata": {
    "tags": []
   },
   "outputs": [],
   "source": [
    "bins=5\n",
    "\n",
    "grid_1 = onp.zeros((bins,bins))\n",
    "\n",
    "for i in range(bins):\n",
    "    for j in range(bins):\n",
    "        grid_1[i][j] = (1 + PC1[i]) * (1 + PC1[j+bins])\n",
    "        #grid_1[i][j] = PC1[i] + PC1[j+bins]\n",
    "\n",
    "print(grid_1)\n",
    "\n",
    "grid_1 = grid_1.T\n",
    "imshow(grid_1, origin = 'lower')\n",
    "plt.colorbar()\n",
    "plt.xlabel(\"z bin\")\n",
    "plt.ylabel(\"k bin\")\n",
    "\n"
   ]
  },
  {
   "cell_type": "code",
   "execution_count": null,
   "metadata": {
    "tags": []
   },
   "outputs": [],
   "source": [
    "bins=5\n",
    "\n",
    "grid_2 = onp.zeros((bins,bins))\n",
    "\n",
    "for i in range(bins):\n",
    "    for j in range(bins):\n",
    "        grid_2[i][j] = (1 + PC2[i]) * (1 + PC2[j+bins])\n",
    "\n",
    "grid_2 = grid_2.T        \n",
    "imshow(grid_2, origin = 'lower')\n",
    "plt.colorbar()\n",
    "plt.xlabel(\"z bin\")\n",
    "plt.ylabel(\"k bin\")"
   ]
  },
  {
   "cell_type": "code",
   "execution_count": null,
   "metadata": {
    "tags": []
   },
   "outputs": [],
   "source": [
    "bins=5\n",
    "\n",
    "grid_3 = onp.zeros((bins,bins))\n",
    "\n",
    "for i in range(bins):\n",
    "    for j in range(bins):\n",
    "        grid_3[i][j] = (1 + PC3[i]) * (1 + PC3[j+bins])\n",
    "\n",
    "grid_3 = grid_3.T\n",
    "imshow(grid_3, origin = 'lower')\n",
    "plt.colorbar()\n",
    "plt.xlabel(\"z bin\")\n",
    "plt.ylabel(\"k bin\")"
   ]
  },
  {
   "cell_type": "code",
   "execution_count": null,
   "metadata": {},
   "outputs": [],
   "source": []
  },
  {
   "cell_type": "code",
   "execution_count": null,
   "metadata": {},
   "outputs": [],
   "source": []
  }
 ],
 "metadata": {
  "accelerator": "GPU",
  "colab": {
   "include_colab_link": true,
   "name": "DES_Y1_3x2pt_demo.ipynb",
   "provenance": []
  },
  "kernelspec": {
   "display_name": "jax-gpu",
   "language": "python",
   "name": "jax-gpu"
  },
  "language_info": {
   "codemirror_mode": {
    "name": "ipython",
    "version": 3
   },
   "file_extension": ".py",
   "mimetype": "text/x-python",
   "name": "python",
   "nbconvert_exporter": "python",
   "pygments_lexer": "ipython3",
   "version": "3.9.18"
  }
 },
 "nbformat": 4,
 "nbformat_minor": 4
}
