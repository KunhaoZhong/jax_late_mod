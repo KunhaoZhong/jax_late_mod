{
 "cells": [
  {
   "cell_type": "code",
   "execution_count": 1,
   "id": "acd1938f-7f44-41b3-9d5a-ab65c4e661a9",
   "metadata": {},
   "outputs": [],
   "source": [
    "import sys\n",
    "sys.path.append('/global/homes/k/kunhaoz/des/projects/jax_cosmo_late_mod/')\n",
    "from jax.config import config\n",
    "config.update(\"jax_enable_x64\", True)"
   ]
  },
  {
   "cell_type": "code",
   "execution_count": 2,
   "id": "990bdd0b-62c1-4167-b4fb-ad7343065514",
   "metadata": {},
   "outputs": [
    {
     "name": "stdout",
     "output_type": "stream",
     "text": [
      "%pylab is deprecated, use %matplotlib inline and import the required libraries.\n",
      "Populating the interactive namespace from numpy and matplotlib\n"
     ]
    }
   ],
   "source": [
    "%pylab inline\n",
    "import os.path\n",
    "import os\n",
    "os.environ['XLA_PYTHON_CLIENT_PREALLOCATE']='false'\n",
    "os.environ['XLA_PYTHON_CLIENT_MEM_FRACTION']='.10'\n",
    "os.environ['XLA_PYTHON_CLIENT_ALLOCATOR']='platform'\n",
    "import jax\n",
    "import jax.numpy as np\n",
    "import jax_cosmo as jc\n",
    "\n",
    "# %env CUDA_DEVICE_ORDER=PCI_BUS_ID\n",
    "# %env CUDA_VISIBLE_DEVICES=0\n",
    "# %env XLA_PYTHON_CLIENT_PREALLOCATE=false\n",
    "# %env XLA_PYTHON_CLIENT_ALLOCATOR=platform\n",
    "# %env XLA_PYTHON_CLIENT_MEM_FRACTION=.30\n",
    "\n",
    "#%env"
   ]
  },
  {
   "cell_type": "markdown",
   "id": "a1cdd4c8-5858-4027-a1c6-95a2f114e513",
   "metadata": {},
   "source": [
    "# Exercice: WL + Galaxy-Clustering $C_\\ell$"
   ]
  },
  {
   "cell_type": "markdown",
   "id": "aad136f0-bf59-4b1f-bf7e-3e68dd48abee",
   "metadata": {},
   "source": [
    "# Retrieving the nz data"
   ]
  },
  {
   "cell_type": "code",
   "execution_count": 3,
   "id": "01003212-0e3f-4300-8cf7-6b33ff99f44c",
   "metadata": {},
   "outputs": [],
   "source": [
    "# Let's grab the data file\n",
    "from astropy.io import fits\n",
    "if not os.path.isfile('2pt_NG_mcal_1110.fits'):\n",
    "    !wget http://desdr-server.ncsa.illinois.edu/despublic/y1a1_files/chains/2pt_NG_mcal_1110.fits\n",
    "\n",
    "nz_source=fits.getdata('2pt_NG_mcal_1110.fits', 6)\n",
    "nz_lens=fits.getdata('2pt_NG_mcal_1110.fits', 7)"
   ]
  },
  {
   "cell_type": "code",
   "execution_count": 4,
   "id": "21d6d0f2-d9c0-4875-8af3-20aa571e880d",
   "metadata": {},
   "outputs": [],
   "source": [
    "os.environ['XLA_PYTHON_CLIENT_PREALLOCATE']='false'\n",
    "os.environ['XLA_PYTHON_CLIENT_MEM_FRACTION']='.10'\n",
    "os.environ['XLA_PYTHON_CLIENT_ALLOCATOR']='platform'\n",
    "\n",
    "nzs_l = [jc.redshift.kde_nz(nz_lens['Z_MID'].astype('float32'),\n",
    "                            nz_lens['BIN%d'%i].astype('float32'), bw=0.01, zmax=1)\n",
    "        for i in range(1,6)]    "
   ]
  },
  {
   "cell_type": "code",
   "execution_count": 5,
   "id": "9b08fc39-3e08-43d9-91dc-c24c8935de0a",
   "metadata": {},
   "outputs": [
    {
     "name": "stderr",
     "output_type": "stream",
     "text": [
      "WARNING: All log messages before absl::InitializeLog() is called are written to STDERR\n",
      "I0000 00:00:1696111103.744872 1822090 tfrt_cpu_pjrt_client.cc:349] TfrtCpuClient created.\n",
      "2023-09-30 14:58:25.285663: E external/xla/xla/stream_executor/cuda/cuda_dnn.cc:447] Could not create cudnn handle: CUDNN_STATUS_INTERNAL_ERROR\n",
      "2023-09-30 14:58:25.285711: E external/xla/xla/stream_executor/cuda/cuda_dnn.cc:451] Memory usage: 84550746112 bytes free, 84990623744 bytes total.\n"
     ]
    },
    {
     "ename": "XlaRuntimeError",
     "evalue": "FAILED_PRECONDITION: DNN library initialization failed. Look at the errors above for more details.",
     "output_type": "error",
     "traceback": [
      "\u001b[0;31m---------------------------------------------------------------------------\u001b[0m",
      "\u001b[0;31mXlaRuntimeError\u001b[0m                           Traceback (most recent call last)",
      "Cell \u001b[0;32mIn[5], line 9\u001b[0m\n\u001b[1;32m      7\u001b[0m \u001b[38;5;28;01mfor\u001b[39;00m i \u001b[38;5;129;01min\u001b[39;00m \u001b[38;5;28mrange\u001b[39m(\u001b[38;5;241m5\u001b[39m):\n\u001b[1;32m      8\u001b[0m     plot(nz_lens[\u001b[38;5;124m'\u001b[39m\u001b[38;5;124mZ_MID\u001b[39m\u001b[38;5;124m'\u001b[39m], nz_lens[\u001b[38;5;124m'\u001b[39m\u001b[38;5;124mBIN\u001b[39m\u001b[38;5;132;01m%d\u001b[39;00m\u001b[38;5;124m'\u001b[39m\u001b[38;5;241m%\u001b[39m(i\u001b[38;5;241m+\u001b[39m\u001b[38;5;241m1\u001b[39m)], color\u001b[38;5;241m=\u001b[39m\u001b[38;5;124m'\u001b[39m\u001b[38;5;124mC\u001b[39m\u001b[38;5;132;01m%d\u001b[39;00m\u001b[38;5;124m'\u001b[39m\u001b[38;5;241m%\u001b[39mi, label\u001b[38;5;241m=\u001b[39m\u001b[38;5;124mf\u001b[39m\u001b[38;5;124m'\u001b[39m\u001b[38;5;124mFITS BIN[\u001b[39m\u001b[38;5;132;01m{\u001b[39;00mi\u001b[38;5;132;01m}\u001b[39;00m\u001b[38;5;124m]\u001b[39m\u001b[38;5;124m'\u001b[39m)\n\u001b[0;32m----> 9\u001b[0m     plot(z, \u001b[43mnzs_l\u001b[49m\u001b[43m[\u001b[49m\u001b[43mi\u001b[49m\u001b[43m]\u001b[49m\u001b[43m(\u001b[49m\u001b[43mz\u001b[49m\u001b[43m)\u001b[49m, \u001b[38;5;124m'\u001b[39m\u001b[38;5;124m--\u001b[39m\u001b[38;5;124m'\u001b[39m, color\u001b[38;5;241m=\u001b[39m\u001b[38;5;124m'\u001b[39m\u001b[38;5;124mC\u001b[39m\u001b[38;5;132;01m%d\u001b[39;00m\u001b[38;5;124m'\u001b[39m\u001b[38;5;241m%\u001b[39mi, label\u001b[38;5;241m=\u001b[39m\u001b[38;5;124m'\u001b[39m\u001b[38;5;124mjc kde\u001b[39m\u001b[38;5;124m'\u001b[39m)\n\u001b[1;32m     10\u001b[0m     xlim(\u001b[38;5;241m0\u001b[39m,\u001b[38;5;241m1.2\u001b[39m);\n\u001b[1;32m     11\u001b[0m \u001b[38;5;66;03m#legend()\u001b[39;00m\n",
      "File \u001b[0;32m~/des/projects/jax_cosmo_late_mod/jax_cosmo/redshift.py:31\u001b[0m, in \u001b[0;36mredshift_distribution.__call__\u001b[0;34m(self, z)\u001b[0m\n\u001b[1;32m     29\u001b[0m \u001b[38;5;250m\u001b[39m\u001b[38;5;124;03m\"\"\"Computes the normalized n(z)\"\"\"\u001b[39;00m\n\u001b[1;32m     30\u001b[0m \u001b[38;5;28;01mif\u001b[39;00m \u001b[38;5;28mself\u001b[39m\u001b[38;5;241m.\u001b[39m_norm \u001b[38;5;129;01mis\u001b[39;00m \u001b[38;5;28;01mNone\u001b[39;00m:\n\u001b[0;32m---> 31\u001b[0m     \u001b[38;5;28mself\u001b[39m\u001b[38;5;241m.\u001b[39m_norm \u001b[38;5;241m=\u001b[39m \u001b[43msimps\u001b[49m\u001b[43m(\u001b[49m\u001b[38;5;28;43;01mlambda\u001b[39;49;00m\u001b[43m \u001b[49m\u001b[43mt\u001b[49m\u001b[43m:\u001b[49m\u001b[43m \u001b[49m\u001b[38;5;28;43mself\u001b[39;49m\u001b[38;5;241;43m.\u001b[39;49m\u001b[43mpz_fn\u001b[49m\u001b[43m(\u001b[49m\u001b[43mt\u001b[49m\u001b[43m)\u001b[49m\u001b[43m,\u001b[49m\u001b[43m \u001b[49m\u001b[38;5;241;43m0.0\u001b[39;49m\u001b[43m,\u001b[49m\u001b[43m \u001b[49m\u001b[38;5;28;43mself\u001b[39;49m\u001b[38;5;241;43m.\u001b[39;49m\u001b[43mconfig\u001b[49m\u001b[43m[\u001b[49m\u001b[38;5;124;43m\"\u001b[39;49m\u001b[38;5;124;43mzmax\u001b[39;49m\u001b[38;5;124;43m\"\u001b[39;49m\u001b[43m]\u001b[49m\u001b[43m,\u001b[49m\u001b[43m \u001b[49m\u001b[38;5;241;43m256\u001b[39;49m\u001b[43m)\u001b[49m\n\u001b[1;32m     32\u001b[0m \u001b[38;5;28;01mreturn\u001b[39;00m \u001b[38;5;28mself\u001b[39m\u001b[38;5;241m.\u001b[39mpz_fn(z) \u001b[38;5;241m/\u001b[39m \u001b[38;5;28mself\u001b[39m\u001b[38;5;241m.\u001b[39m_norm\n",
      "File \u001b[0;32m~/des/projects/jax_cosmo_late_mod/jax_cosmo/scipy/integrate.py:197\u001b[0m, in \u001b[0;36msimps\u001b[0;34m(f, a, b, N)\u001b[0m\n\u001b[1;32m    195\u001b[0m     \u001b[38;5;28;01mraise\u001b[39;00m \u001b[38;5;167;01mValueError\u001b[39;00m(\u001b[38;5;124m\"\u001b[39m\u001b[38;5;124mN must be an even integer.\u001b[39m\u001b[38;5;124m\"\u001b[39m)\n\u001b[1;32m    196\u001b[0m dx \u001b[38;5;241m=\u001b[39m (b \u001b[38;5;241m-\u001b[39m a) \u001b[38;5;241m/\u001b[39m N\n\u001b[0;32m--> 197\u001b[0m x \u001b[38;5;241m=\u001b[39m \u001b[43mnp\u001b[49m\u001b[38;5;241;43m.\u001b[39;49m\u001b[43mlinspace\u001b[49m\u001b[43m(\u001b[49m\u001b[43ma\u001b[49m\u001b[43m,\u001b[49m\u001b[43m \u001b[49m\u001b[43mb\u001b[49m\u001b[43m,\u001b[49m\u001b[43m \u001b[49m\u001b[43mN\u001b[49m\u001b[43m \u001b[49m\u001b[38;5;241;43m+\u001b[39;49m\u001b[43m \u001b[49m\u001b[38;5;241;43m1\u001b[39;49m\u001b[43m)\u001b[49m\n\u001b[1;32m    198\u001b[0m y \u001b[38;5;241m=\u001b[39m f(x)\n\u001b[1;32m    199\u001b[0m S \u001b[38;5;241m=\u001b[39m dx \u001b[38;5;241m/\u001b[39m \u001b[38;5;241m3\u001b[39m \u001b[38;5;241m*\u001b[39m np\u001b[38;5;241m.\u001b[39msum(y[\u001b[38;5;241m0\u001b[39m:\u001b[38;5;241m-\u001b[39m\u001b[38;5;241m1\u001b[39m:\u001b[38;5;241m2\u001b[39m] \u001b[38;5;241m+\u001b[39m \u001b[38;5;241m4\u001b[39m \u001b[38;5;241m*\u001b[39m y[\u001b[38;5;241m1\u001b[39m::\u001b[38;5;241m2\u001b[39m] \u001b[38;5;241m+\u001b[39m y[\u001b[38;5;241m2\u001b[39m::\u001b[38;5;241m2\u001b[39m], axis\u001b[38;5;241m=\u001b[39m\u001b[38;5;241m0\u001b[39m)\n",
      "File \u001b[0;32m~/miniconda3/envs/jax-gpu/lib/python3.9/site-packages/jax/_src/numpy/lax_numpy.py:2396\u001b[0m, in \u001b[0;36mlinspace\u001b[0;34m(start, stop, num, endpoint, retstep, dtype, axis)\u001b[0m\n\u001b[1;32m   2394\u001b[0m num \u001b[38;5;241m=\u001b[39m core\u001b[38;5;241m.\u001b[39mconcrete_or_error(operator\u001b[38;5;241m.\u001b[39mindex, num, \u001b[38;5;124m\"\u001b[39m\u001b[38;5;124m'\u001b[39m\u001b[38;5;124mnum\u001b[39m\u001b[38;5;124m'\u001b[39m\u001b[38;5;124m argument of jnp.linspace\u001b[39m\u001b[38;5;124m\"\u001b[39m)\n\u001b[1;32m   2395\u001b[0m axis \u001b[38;5;241m=\u001b[39m core\u001b[38;5;241m.\u001b[39mconcrete_or_error(operator\u001b[38;5;241m.\u001b[39mindex, axis, \u001b[38;5;124m\"\u001b[39m\u001b[38;5;124m'\u001b[39m\u001b[38;5;124maxis\u001b[39m\u001b[38;5;124m'\u001b[39m\u001b[38;5;124m argument of jnp.linspace\u001b[39m\u001b[38;5;124m\"\u001b[39m)\n\u001b[0;32m-> 2396\u001b[0m \u001b[38;5;28;01mreturn\u001b[39;00m \u001b[43m_linspace\u001b[49m\u001b[43m(\u001b[49m\u001b[43mstart\u001b[49m\u001b[43m,\u001b[49m\u001b[43m \u001b[49m\u001b[43mstop\u001b[49m\u001b[43m,\u001b[49m\u001b[43m \u001b[49m\u001b[43mnum\u001b[49m\u001b[43m,\u001b[49m\u001b[43m \u001b[49m\u001b[43mendpoint\u001b[49m\u001b[43m,\u001b[49m\u001b[43m \u001b[49m\u001b[43mretstep\u001b[49m\u001b[43m,\u001b[49m\u001b[43m \u001b[49m\u001b[43mdtype\u001b[49m\u001b[43m,\u001b[49m\u001b[43m \u001b[49m\u001b[43maxis\u001b[49m\u001b[43m)\u001b[49m\n",
      "    \u001b[0;31m[... skipping hidden 14 frame]\u001b[0m\n",
      "File \u001b[0;32m~/miniconda3/envs/jax-gpu/lib/python3.9/site-packages/jax/_src/compiler.py:251\u001b[0m, in \u001b[0;36mbackend_compile\u001b[0;34m(backend, module, options, host_callbacks)\u001b[0m\n\u001b[1;32m    246\u001b[0m   \u001b[38;5;28;01mreturn\u001b[39;00m backend\u001b[38;5;241m.\u001b[39mcompile(built_c, compile_options\u001b[38;5;241m=\u001b[39moptions,\n\u001b[1;32m    247\u001b[0m                          host_callbacks\u001b[38;5;241m=\u001b[39mhost_callbacks)\n\u001b[1;32m    248\u001b[0m \u001b[38;5;66;03m# Some backends don't have `host_callbacks` option yet\u001b[39;00m\n\u001b[1;32m    249\u001b[0m \u001b[38;5;66;03m# TODO(sharadmv): remove this fallback when all backends allow `compile`\u001b[39;00m\n\u001b[1;32m    250\u001b[0m \u001b[38;5;66;03m# to take in `host_callbacks`\u001b[39;00m\n\u001b[0;32m--> 251\u001b[0m \u001b[38;5;28;01mreturn\u001b[39;00m \u001b[43mbackend\u001b[49m\u001b[38;5;241;43m.\u001b[39;49m\u001b[43mcompile\u001b[49m\u001b[43m(\u001b[49m\u001b[43mbuilt_c\u001b[49m\u001b[43m,\u001b[49m\u001b[43m \u001b[49m\u001b[43mcompile_options\u001b[49m\u001b[38;5;241;43m=\u001b[39;49m\u001b[43moptions\u001b[49m\u001b[43m)\u001b[49m\n",
      "\u001b[0;31mXlaRuntimeError\u001b[0m: FAILED_PRECONDITION: DNN library initialization failed. Look at the errors above for more details."
     ]
    },
    {
     "data": {
      "image/png": "[encoded data removed]",
      "text/plain": [
       "<Figure size 640x480 with 1 Axes>"
      ]
     },
     "metadata": {},
     "output_type": "display_data"
    }
   ],
   "source": [
    "#%env XLA_PYTHON_CLIENT_PREALLOCATE=false\n",
    "\n",
    "\n",
    "\n",
    "z = linspace(0,1.2)\n",
    "#fig,axs=plt.subplots(1,5,figsize=(15,5))\n",
    "for i in range(5):\n",
    "    plot(nz_lens['Z_MID'], nz_lens['BIN%d'%(i+1)], color='C%d'%i, label=f'FITS BIN[{i}]')\n",
    "    plot(z, nzs_l[i](z), '--', color='C%d'%i, label='jc kde')\n",
    "    xlim(0,1.2);\n",
    "#legend()\n",
    "title('Lens redshift distributions');"
   ]
  },
  {
   "cell_type": "markdown",
   "id": "df3a210c-90b4-43e4-9aae-d4089ccd2796",
   "metadata": {},
   "source": [
    "# Let's build a model for C_ell"
   ]
  },
  {
   "cell_type": "code",
   "execution_count": null,
   "id": "10922904-59af-4948-bfaa-a987fc3b4e90",
   "metadata": {},
   "outputs": [],
   "source": [
    "%env XLA_PYTHON_CLIENT_PREALLOCATE=false\n",
    "\n",
    "def get_params_vec(cosmo, m, dz, ia, bias):\n",
    "    m1, m2, m3, m4 = m\n",
    "    dz1, dz2, dz3, dz4 = dz\n",
    "    A, eta = ia\n",
    "    b1, b2, b3, b4, b5 = bias\n",
    "    return np.array([ \n",
    "        # Cosmological parameters\n",
    "        cosmo.sigma8, cosmo.Omega_c, cosmo.Omega_b,\n",
    "        cosmo.h, cosmo.n_s, cosmo.w0,\n",
    "        # Shear systematics\n",
    "        m1, m2, m3, m4,\n",
    "        # Photoz systematics\n",
    "        dz1, dz2, dz3, dz4,\n",
    "        # IA model\n",
    "        A, eta,\n",
    "        # linear galaxy bias\n",
    "        b1, b2, b3, b4, b5\n",
    "    ])\n",
    "    \n",
    "def unpack_params_vec(params):\n",
    "    # Retrieve cosmology\n",
    "    cosmo = jc.Cosmology(sigma8=params[0], Omega_c=params[1], Omega_b=params[2],\n",
    "                         h=params[3], n_s=params[4], w0=params[5],\n",
    "                         Omega_k=0., wa=0.)\n",
    "    m1,m2,m3,m4 = params[6:10]\n",
    "    dz1,dz2,dz3,dz4 = params[10:14]\n",
    "    A = params[14]\n",
    "    eta = params[15]\n",
    "    bias = params[16:21]\n",
    "    return cosmo, [m1,m2,m3,m4], [dz1,dz2,dz3,dz4], [A, eta], bias\n",
    "\n",
    "\n",
    "\n",
    "# Let's try a round trip just to make sure\n",
    "p = get_params_vec(jc.Planck15(), [1.,2.,3.,4.], [5.,6.,7.,8.],\n",
    "              [1., 2.], [1.,2.,3.,4.,5.])\n",
    "print(unpack_params_vec(p))"
   ]
  },
  {
   "cell_type": "code",
   "execution_count": null,
   "id": "63dfd7d6-b16c-40f0-8f52-9d938f8c388a",
   "metadata": {},
   "outputs": [],
   "source": [
    "# Define some ell range\n",
    "ell = np.logspace(1, 3)\n",
    "\n",
    "@jax.jit\n",
    "def mu(params):\n",
    "    # First unpack parameter vector\n",
    "    cosmo, m, dz, (A, eta), bias = unpack_params_vec(params) \n",
    "\n",
    "    # Build source nz with redshift systematic bias\n",
    "    nzs_s_sys = [jc.redshift.systematic_shift(nzi, dzi, zmax=2.0) \n",
    "                for nzi, dzi in zip(nzs_s, dz)]\n",
    "    \n",
    "    # Define IA model, z0 is fixed\n",
    "    b_ia = jc.bias.des_y1_ia_bias(A, eta, 0.62)\n",
    "\n",
    "    # Bias for the lenses\n",
    "    b = [jc.bias.constant_linear_bias(bi) for bi in bias] \n",
    "\n",
    "    \n",
    "    # Define the lensing and number counts probe\n",
    "    probes = [jc.probes.WeakLensing(nzs_s_sys, \n",
    "                                    ia_bias=b_ia,\n",
    "                                    multiplicative_bias=m),\n",
    "             jc.probes.NumberCounts(nzs_l, b)]\n",
    "\n",
    "    \n",
    "    cl = jc.angular_cl.angular_cl(cosmo, ell, probes)\n",
    "\n",
    "    return cl, probes"
   ]
  },
  {
   "cell_type": "code",
   "execution_count": null,
   "id": "6a7df074-e8b2-49de-988c-668c37c249c0",
   "metadata": {},
   "outputs": [],
   "source": [
    "print(\"le nombre de ell:\",ell.shape)"
   ]
  },
  {
   "cell_type": "code",
   "execution_count": null,
   "id": "70922b1a-c47d-4f9e-bfe0-291115382de8",
   "metadata": {},
   "outputs": [],
   "source": [
    "#f_sky = 1321./41253.\n",
    "f_sky = 0.25\n",
    "print(\"f_sky\", f_sky)\n",
    "\n",
    "@jax.jit\n",
    "def cov(params):\n",
    "    \n",
    "    cl_signal, probes = mu(params)\n",
    "        \n",
    "    cl_noise = jc.angular_cl.noise_cl(ell, probes)\n",
    "    \n",
    "    cov = jc.angular_cl.gaussian_cl_covariance(ell, probes, cl_signal, cl_noise, f_sky=f_sky, sparse=False)\n",
    "    \n",
    "    return cov"
   ]
  },
  {
   "cell_type": "code",
   "execution_count": null,
   "id": "603658be-5013-4816-ac51-50c482caddce",
   "metadata": {},
   "outputs": [],
   "source": [
    "def cl_mean(p):\n",
    "    cl,_ = mu(p)\n",
    "    return cl.flatten()\n",
    "jacobian = jax.jit(jax.jacfwd(lambda p: cl_mean(p)))"
   ]
  },
  {
   "cell_type": "code",
   "execution_count": null,
   "id": "68ca85fc-a392-469a-bf82-05d50dc7d33c",
   "metadata": {},
   "outputs": [],
   "source": [
    "# Let's try it out\n",
    "from functools import partial\n",
    "\n",
    "FiducialCosmo = partial(jc.Cosmology, sigma8=0.801,\n",
    "                         Omega_c=0.2545,\n",
    "                         Omega_b=0.0485,\n",
    "                         h=0.682,\n",
    "                         n_s=0.971,\n",
    "                         w0=-1., Omega_k=0., wa=0.)\n",
    "\n",
    "fid_cosmo = FiducialCosmo()\n",
    "\n",
    "fid_params = get_params_vec(fid_cosmo, \n",
    "                            [0., 0., 0., 0.],\n",
    "                            [0., 0., 0., 0.],\n",
    "                            [0.5, 0.],\n",
    "                            [1.2, 1.4, 1.6, 1.8, 2.0])"
   ]
  },
  {
   "cell_type": "code",
   "execution_count": null,
   "id": "a16454f5-54e1-44bb-83aa-dbd1355fabee",
   "metadata": {},
   "outputs": [],
   "source": [
    "unpack_params_vec(fid_params )"
   ]
  },
  {
   "cell_type": "code",
   "execution_count": null,
   "id": "67286179-099d-4658-86a4-cd546d292197",
   "metadata": {},
   "outputs": [],
   "source": [
    "cl_wlnc,_ = mu(fid_params)"
   ]
  },
  {
   "cell_type": "code",
   "execution_count": null,
   "id": "88732c88-aa2c-4b93-a54c-f9e7e2efd5f3",
   "metadata": {},
   "outputs": [],
   "source": [
    "cl_wlnc.shape"
   ]
  },
  {
   "cell_type": "code",
   "execution_count": null,
   "id": "a26ebd89-f508-44b6-96a1-f6e44739ed46",
   "metadata": {},
   "outputs": [],
   "source": [
    "for i in range(cl_wlnc.shape[0]):\n",
    "    loglog(ell, cl_wlnc[i])"
   ]
  },
  {
   "cell_type": "code",
   "execution_count": null,
   "id": "52de6752-614f-4a75-ad1a-3a9811f0f493",
   "metadata": {},
   "outputs": [],
   "source": [
    "semilogy(cl_wlnc.flatten())"
   ]
  },
  {
   "cell_type": "code",
   "execution_count": null,
   "id": "94af6216-ffa6-4258-bb60-be42d74aa7c6",
   "metadata": {},
   "outputs": [],
   "source": [
    "#np.save('JEC_desy1_mock_data.npy',cl_wlnc.flatten())"
   ]
  },
  {
   "cell_type": "code",
   "execution_count": null,
   "id": "b5f06744-03c8-49e0-8167-b6e386a620ea",
   "metadata": {},
   "outputs": [],
   "source": [
    "#data = np.load('JEC_desy1_mock_data.npy')"
   ]
  },
  {
   "cell_type": "code",
   "execution_count": null,
   "id": "46a1322e-3ae3-467f-a91b-0f1c5d082621",
   "metadata": {},
   "outputs": [],
   "source": [
    "C = cov(fid_params)"
   ]
  },
  {
   "cell_type": "code",
   "execution_count": null,
   "id": "0280c8e1-91fe-4a85-bff8-93950b7ad0ad",
   "metadata": {},
   "outputs": [],
   "source": [
    "C.shape"
   ]
  },
  {
   "cell_type": "code",
   "execution_count": null,
   "id": "b2c15134-406c-456c-a30e-58591c7035d3",
   "metadata": {},
   "outputs": [],
   "source": [
    "j = jacobian(fid_params)"
   ]
  },
  {
   "cell_type": "code",
   "execution_count": null,
   "id": "21ab54f5-84d1-4b67-b19e-2a694d00ea0b",
   "metadata": {},
   "outputs": [],
   "source": [
    "j.shape"
   ]
  },
  {
   "cell_type": "code",
   "execution_count": null,
   "id": "9c5e507d-d898-44a2-a719-81a74c1a3c06",
   "metadata": {},
   "outputs": [],
   "source": [
    "# And we get the fisher matrix from the jacobian and covariance\n",
    "F = np.einsum('ia,ij,jb',j,np.linalg.inv(C),j)\n",
    "F = 0.5*(F+F.T)\n",
    "\n",
    "# Add priors to systematics\n",
    "import numpy as onp\n",
    "d = onp.zeros(j.shape[1])\n",
    "d[6] = 1./(2.3e-2)**2\n",
    "d[7] = 1./(2.3e-2)**2\n",
    "d[8] = 1./(2.3e-2)**2\n",
    "d[9] = 1./(2.3e-2)**2\n",
    "d[10] = 1./(1.6e-2)**2\n",
    "d[11] = 1./(1.3e-2)**2\n",
    "d[12] = 1./(1.1e-2)**2\n",
    "d[13] = 1./(2.2e-2)**2\n",
    "\n",
    "F = F + np.diag(d)"
   ]
  },
  {
   "cell_type": "code",
   "execution_count": null,
   "id": "914a654e-7a36-4ce2-ac8b-27331b1b54a7",
   "metadata": {},
   "outputs": [],
   "source": [
    "F.shape, fid_params.shape"
   ]
  },
  {
   "cell_type": "code",
   "execution_count": null,
   "id": "5e0dbb6d-b3bd-4bab-9004-70ecb874cd92",
   "metadata": {},
   "outputs": [],
   "source": [
    "import matplotlib.pyplot as plt\n",
    "from matplotlib.patches import Ellipse\n",
    "\n",
    "def plot_contours(fisher, pos, inds=[1,0], nstd=1., ax=None, **kwargs):\n",
    "  \"\"\"\n",
    "  Plot 2D parameter contours given a Hessian matrix of the likelihood\n",
    "  \"\"\"\n",
    "  i,j = inds\n",
    "  \n",
    "  def eigsorted(cov):\n",
    "    vals, vecs = linalg.eigh(cov)\n",
    "    order = vals.argsort()[::-1]\n",
    "    return vals[order], vecs[:, order]\n",
    "\n",
    "  mat = fisher\n",
    "  cov = np.linalg.inv(mat)\n",
    "  sigma_marg = lambda i: np.sqrt(cov[i, i])\n",
    "\n",
    "  if ax is None:\n",
    "      ax = plt.gca()\n",
    "\n",
    "  # Extracts the block we are interested in\n",
    "  block_cov = cov[:,[i,j]][[i,j],:]\n",
    "  vals, vecs = eigsorted(block_cov)\n",
    "  theta = degrees(np.arctan2(*vecs[:, 0][::-1]))\n",
    "\n",
    "  # Width and height are \"full\" widths, not radius\n",
    "  width, height = 2 * nstd * sqrt(vals)\n",
    "  ellip = Ellipse(xy=pos[[i,j]], width=width,\n",
    "                  height=height, angle=theta, **kwargs)\n",
    "\n",
    "  ax.add_artist(ellip)\n",
    "  sz = max(width, height)\n",
    "  s1 = 1.5*nstd*sigma_marg(i)\n",
    "  s2 = 1.5*nstd*sigma_marg(j)\n",
    "  ax.set_xlim(pos[i] - s1, pos[i] + s1)\n",
    "  ax.set_ylim(pos[j] - s2, pos[j] + s2)\n",
    "  plt.draw()\n",
    "  return ellip"
   ]
  },
  {
   "cell_type": "code",
   "execution_count": null,
   "id": "248f72c8-3930-409b-85d6-b3beff3681b4",
   "metadata": {},
   "outputs": [],
   "source": [
    "plot_contours(F, array(fid_params))\n",
    "xlabel('Omega_c')\n",
    "ylabel('sigma8')"
   ]
  },
  {
   "cell_type": "markdown",
   "id": "b9ee51cc-de6f-4db9-b6d4-3afdba8038ab",
   "metadata": {},
   "source": [
    "# Fisher matrices are ok, but let's try proper inference"
   ]
  },
  {
   "cell_type": "code",
   "execution_count": null,
   "id": "708b7de7-eb42-43d9-97b8-62533f90c257",
   "metadata": {},
   "outputs": [],
   "source": [
    "import numpyro\n",
    "import numpyro.distributions as dist"
   ]
  },
  {
   "cell_type": "code",
   "execution_count": null,
   "id": "803e7fa8-c4c0-4936-b85b-eb8cc88c2736",
   "metadata": {},
   "outputs": [],
   "source": [
    "# The theory\n",
    "@jax.jit\n",
    "def model_fn(params):\n",
    "    # First unpack parameter vector\n",
    "    cosmo, m, dz, (A, eta), bias = unpack_params_vec(params) \n",
    "    \n",
    "    \n",
    "    # Build source nz with redshift systematic bias\n",
    "    nzs_s_sys = [jc.redshift.systematic_shift(nzi, dzi, zmax=2.0) \n",
    "                for nzi, dzi in zip(nzs_s, dz)]\n",
    "    \n",
    "    # Define IA model, z0 is fixed\n",
    "    b_ia = jc.bias.des_y1_ia_bias(A, eta, 0.62)\n",
    "\n",
    "    # Bias for the lenses\n",
    "    b = [jc.bias.constant_linear_bias(bi) for bi in bias] \n",
    "    \n",
    "    # Define the lensing and number counts probe\n",
    "    probes = [jc.probes.WeakLensing(nzs_s_sys, \n",
    "                                    ia_bias=b_ia,\n",
    "                                    multiplicative_bias=m),\n",
    "             jc.probes.NumberCounts(nzs_l, b)]\n",
    "\n",
    "    \n",
    "    cl = jc.angular_cl.angular_cl(cosmo, ell, probes)\n",
    "\n",
    "    return cl.flatten()"
   ]
  },
  {
   "cell_type": "code",
   "execution_count": null,
   "id": "6fe5e025-aca1-4761-85cc-8003e20dd12d",
   "metadata": {},
   "outputs": [],
   "source": [
    "# Let's define our model using numpyro\n",
    "# Papier https://arxiv.org/pdf/1708.01530.pdf  and desy1.py\n",
    "def model():\n",
    "    #  Cosmological params\n",
    "    Omega_c = numpyro.sample('Omega_c', dist.Uniform(0.1, 0.9))\n",
    "    sigma8 = numpyro.sample('sigma8', dist.Uniform(0.4, 1.0))\n",
    "    Omega_b = numpyro.sample('Omega_b', dist.Uniform(0.03, 0.07))\n",
    "    h = numpyro.sample('h', dist.Uniform(0.55, 0.91))\n",
    "    n_s = numpyro.sample('n_s', dist.Uniform(0.87, 1.07)) \n",
    "    w0 = numpyro.sample('w0', dist.Uniform(-2.0, -0.33))\n",
    "\n",
    "    # Intrinsic Alignment\n",
    "    A = numpyro.sample('A', dist.Uniform(-5., 5.))\n",
    "    eta = numpyro.sample('eta', dist.Uniform(-5., 5.))\n",
    "\n",
    "    \n",
    "    # parameters for systematics\n",
    "    m = [numpyro.sample('m%d'%i, dist.Normal(0.012, 0.023)) \n",
    "         for i in range(1,5)]\n",
    "    dz1 = numpyro.sample('dz1', dist.Normal(0.001, 0.016)) \n",
    "    dz2 = numpyro.sample('dz2', dist.Normal(-0.019, 0.013)) \n",
    "    dz3 = numpyro.sample('dz3', dist.Normal(0.009, 0.011)) \n",
    "    dz4 = numpyro.sample('dz4', dist.Normal(-0.018, 0.022)) \n",
    "    \n",
    "    # linear galaxy bias\n",
    "    bias = [numpyro.sample('b%d'%i, dist.Uniform(0.8, 3.0)) \n",
    "         for i in range(1,6)]\n",
    "    \n",
    "    # Now that params are defined, here is the forward model\n",
    "    cosmo = FiducialCosmo(Omega_c=Omega_c, sigma8=sigma8, Omega_b=Omega_b,\n",
    "                          h=h, n_s=n_s, w0=w0)\n",
    "    \n",
    "    signal = model_fn(get_params_vec(cosmo, m, [dz1, dz2, dz3, dz4], [A, eta], bias))\n",
    "    \n",
    "    # And here we define the likelihood\n",
    "    numpyro.sample('cl_wlnc', dist.MultivariateNormal(signal, C))"
   ]
  },
  {
   "cell_type": "code",
   "execution_count": null,
   "id": "da1d1a9f-0e05-4763-8596-93576a1c7d2f",
   "metadata": {},
   "outputs": [],
   "source": [
    "from numpyro.handlers import seed, trace\n",
    "rng_key = jax.random.PRNGKey(0)"
   ]
  },
  {
   "cell_type": "code",
   "execution_count": null,
   "id": "208b16c9-2edb-496c-902a-d3f172d91d6e",
   "metadata": {},
   "outputs": [],
   "source": [
    "#form desy1\n",
    "fix_cond_model = numpyro.handlers.condition(model, \n",
    "        {'Omega_c':0.2545, 'sigma8':0.801, 'h':0.682, 'Omega_b':0.0485, 'w0':-1.,'n_s':0.971,\n",
    "         'A':0.5,'eta':0.,\n",
    "         'm1':0.0,'m2':0.0,'m3':0.0,'m4':0.0,\n",
    "         'dz1':0.0,'dz2':0.0,'dz3':0.0,'dz4':0.0,\n",
    "         'b1':1.2,'b2':1.4,'b3':1.6,'b4':1.8,'b5':2.0\n",
    "        })\n",
    "\n"
   ]
  },
  {
   "cell_type": "code",
   "execution_count": null,
   "id": "d14835d7-9c41-4711-9036-8b90231e3c3a",
   "metadata": {},
   "outputs": [],
   "source": [
    "tr = numpyro.handlers.trace(seed(fix_cond_model, rng_key))"
   ]
  },
  {
   "cell_type": "code",
   "execution_count": null,
   "id": "673e89fd-3853-4a5d-9dff-dac2de1b913b",
   "metadata": {},
   "outputs": [],
   "source": [
    "res = tr.get_trace()"
   ]
  },
  {
   "cell_type": "code",
   "execution_count": null,
   "id": "4911cbad-d09f-4187-9410-c6fbee366e4f",
   "metadata": {},
   "outputs": [],
   "source": [
    "data = res['cl_wlnc']['value']"
   ]
  },
  {
   "cell_type": "code",
   "execution_count": null,
   "id": "aa722cce-d1e4-4c73-bb80-87e33db18c5e",
   "metadata": {},
   "outputs": [],
   "source": [
    "figsize(10,8)\n",
    "semilogy(data,'r+')\n",
    "semilogy(cl_wlnc.flatten());"
   ]
  },
  {
   "cell_type": "code",
   "execution_count": null,
   "id": "948c5318-5ebf-4510-b1f6-72765581435e",
   "metadata": {},
   "outputs": [],
   "source": [
    "cond_model = numpyro.handlers.condition(model, {'cl_wlnc':data})"
   ]
  },
  {
   "cell_type": "code",
   "execution_count": null,
   "id": "746681c9-72f5-4fe3-a068-f4aedce6fa59",
   "metadata": {},
   "outputs": [],
   "source": [
    "nuts_kernel = numpyro.infer.NUTS(cond_model,init_strategy=numpyro.infer.init_to_sample(), max_tree_depth=3)"
   ]
  },
  {
   "cell_type": "code",
   "execution_count": null,
   "id": "060b42c9-f2ca-4578-99bc-473e0cda0e5b",
   "metadata": {},
   "outputs": [],
   "source": [
    "rng_key = jax.random.PRNGKey(0)"
   ]
  },
  {
   "cell_type": "code",
   "execution_count": null,
   "id": "5eb3b916-502c-4012-95c4-9bcecaa91c3a",
   "metadata": {},
   "outputs": [],
   "source": [
    "mcmc = numpyro.infer.MCMC(nuts_kernel, \n",
    "                          num_warmup=500, \n",
    "                          num_samples=1_000,\n",
    "                          num_chains=16,\n",
    "                          jit_model_args=True,\n",
    "                          progress_bar=True)"
   ]
  },
  {
   "cell_type": "code",
   "execution_count": null,
   "id": "387a70ec-363b-4948-b257-663538e7051c",
   "metadata": {},
   "outputs": [],
   "source": [
    "mcmc.run(rng_key)"
   ]
  },
  {
   "cell_type": "code",
   "execution_count": null,
   "id": "3c49451b-b5ba-4521-8f3e-cafd6c6b9dee",
   "metadata": {},
   "outputs": [],
   "source": [
    "#KZ testing from here\n",
    "\n",
    "samples = mcmc.get_samples()\n",
    "\n",
    "chain = onp.transpose(onp.vstack(list(samples.values())))"
   ]
  },
  {
   "cell_type": "code",
   "execution_count": null,
   "id": "13cbb95f-4d39-4497-bbc5-ed7cd99bc11c",
   "metadata": {
    "tags": []
   },
   "outputs": [],
   "source": [
    "figure(figsize=(10,10))\n",
    "\n",
    "i=1\n",
    "j=0\n",
    "\n",
    "\n",
    "plot(chain[:, i], chain[:, j], 'kx')"
   ]
  },
  {
   "cell_type": "code",
   "execution_count": null,
   "id": "2f198613-6561-4ca6-b4f3-921e455c7f37",
   "metadata": {},
   "outputs": [],
   "source": []
  }
 ],
 "metadata": {
  "kernelspec": {
   "display_name": "jax-gpu",
   "language": "python",
   "name": "jax-gpu"
  },
  "language_info": {
   "codemirror_mode": {
    "name": "ipython",
    "version": 3
   },
   "file_extension": ".py",
   "mimetype": "text/x-python",
   "name": "python",
   "nbconvert_exporter": "python",
   "pygments_lexer": "ipython3",
   "version": "3.9.18"
  }
 },
 "nbformat": 4,
 "nbformat_minor": 5
}
