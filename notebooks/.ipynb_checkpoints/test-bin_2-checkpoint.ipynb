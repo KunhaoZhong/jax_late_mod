{
 "cells": [
  {
   "cell_type": "code",
   "execution_count": null,
   "id": "c4769e18",
   "metadata": {
    "tags": []
   },
   "outputs": [],
   "source": [
    "import sys\n",
    "sys.path.append('/global/homes/k/kunhaoz/des/projects/jax_cosmo_late_mod/')\n",
    "\n",
    "%pylab inline\n",
    "import jax\n",
    "import jax_cosmo as jc\n",
    "import jax.numpy as np\n",
    "import numpy as onp\n",
    "import os\n",
    "\n",
    "import numpyro\n",
    "import numpyro.distributions as dist\n",
    "\n",
    "print(\"JAX version:\", jax.__version__)\n",
    "#print(\"jax-cosmo version:\", jc.__version__)\n",
    "print(\"Using Modified Jax-cosmo from: \", jc.__file__)"
   ]
  },
  {
   "cell_type": "code",
   "execution_count": null,
   "id": "3d162b18",
   "metadata": {
    "tags": []
   },
   "outputs": [],
   "source": [
    "# Create a cosmology with default parameters\n",
    "cosmo_P15 = jc.Planck15()"
   ]
  },
  {
   "cell_type": "code",
   "execution_count": null,
   "id": "69cb3619-c945-413c-8c39-817fe1be4ed1",
   "metadata": {},
   "outputs": [],
   "source": [
    "# Now let's try to build the equivalent with jax-cosmo\n",
    "\n",
    "# Let's grab the data file\n",
    "from astropy.io import fits\n",
    "if not os.path.isfile('2pt_NG_mcal_1110.fits'):\n",
    "    !wget http://desdr-server.ncsa.illinois.edu/despublic/y1a1_files/chains/2pt_NG_mcal_1110.fits\n",
    "\n",
    "nz_source=fits.getdata('2pt_NG_mcal_1110.fits', 6)\n",
    "nz_lens=fits.getdata('2pt_NG_mcal_1110.fits', 7)\n",
    "\n",
    "# This is the effective number of sources from the cosmic shear paper\n",
    "neff_s = [1.47, 1.46, 1.50, 0.73]\n",
    "\n",
    "nzs_s = [jc.redshift.kde_nz(nz_source['Z_MID'].astype('float32'),\n",
    "                            nz_source['BIN%d'%i].astype('float32'), \n",
    "                            bw=0.01,\n",
    "                            gals_per_arcmin2=neff_s[i-1])\n",
    "           for i in range(1,5)]\n",
    "\n",
    "nzs_l = [jc.redshift.kde_nz(nz_lens['Z_MID'].astype('float32'),\n",
    "                              nz_lens['BIN%d'%i].astype('float32'), bw=0.01)\n",
    "           for i in range(1,6)]"
   ]
  },
  {
   "cell_type": "code",
   "execution_count": null,
   "id": "d8707f57-33a6-429a-b4aa-7540b6a4459c",
   "metadata": {
    "tags": []
   },
   "outputs": [],
   "source": []
  },
  {
   "cell_type": "code",
   "execution_count": null,
   "id": "081a9052-b8c3-4ac8-ae28-76bbba1f2406",
   "metadata": {},
   "outputs": [],
   "source": []
  },
  {
   "cell_type": "code",
   "execution_count": null,
   "id": "3a61ad88-b4f3-42be-8ae7-acf3500f9353",
   "metadata": {},
   "outputs": [],
   "source": [
    "# Create one with late-time modification (bin); keep others the same as planck15\n",
    "from jax_cosmo.core import Cosmology\n",
    "\n",
    "_z_bin = onp.array([0.0,   1.0, 5])\n",
    "_k_bin = onp.array([0.025, 0.8, 5])\n",
    "# _k_bin = onp.array([-2, 0, 5]) \n",
    "\n",
    "tmpa = np.array([0. for i in range(int(_z_bin[2]))])\n",
    "print(tmpa)\n",
    "tmpb = np.array([0. for i in range(int(_k_bin[2]))])\n",
    "print(tmpb)\n",
    "\n",
    "cosmo_modified2 = Cosmology(sigma8=0.801,\n",
    "                          Omega_c=0.2545,\n",
    "                          Omega_b=0.0485,\n",
    "                          h=0.682,\n",
    "                          n_s=0.971,\n",
    "                          w0=-1.0, # Fix w0=-1\n",
    "                          Omega_k=0., wa=0.,\n",
    "                         a_late=[0.0, 0., 0., 0., 0.1], z_mod_form=\"bin_custom\", z_bin=_z_bin,\n",
    "                         b_late=tmpb, k_mod_form=\"bin_custom\", k_bin=_k_bin)\n",
    "\n",
    "# You can inspect the documentation to see the \n",
    "# meaning of these positional arguments\n",
    "\n",
    "\n",
    "dz =  [0.0,0.0,0.0,0.0]\n",
    "A = 0.5\n",
    "eta = 0.0\n",
    "bias = [1.2, 1.4, 1.6, 1.8, 2.0]\n",
    "m = [0.0,0.0,0.0,0.0]\n",
    "\n",
    "\n",
    "nzs_s_sys = [jc.redshift.systematic_shift(nzi, dzi) \n",
    "            for nzi, dzi in zip(nzs_s, dz)]\n",
    "\n",
    "# Define IA model, z0 is fixed\n",
    "b_ia = jc.bias.des_y1_ia_bias(A, eta, 0.62)\n",
    "# Bias for the lenses\n",
    "b = [jc.bias.constant_linear_bias(bi) for bi in bias] \n",
    "\n",
    "# Define the lensing and number counts probe\n",
    "probes = [jc.probes.WeakLensing(nzs_s_sys, \n",
    "                                ia_bias=b_ia,\n",
    "                                multiplicative_bias=m),\n",
    "         jc.probes.NumberCounts(nzs_l, b)]\n",
    "\n",
    "ell = np.logspace(1,3) # Defines a range of \\ell\n",
    "\n",
    "# And compute the data vector\n",
    "cls_P15 = jc.angular_cl.angular_cl(cosmo_P15, ell, probes)\n",
    "\n",
    "\n",
    "# Cls for modified cosmology\n",
    "cls_modified2 = jc.angular_cl.angular_cl(cosmo_modified2, ell, probes)\n",
    "\n",
    "\n",
    "residue2 = (cls_modified2 - cls_P15) / cls_P15\n",
    "\n",
    "fig, axes = plt.subplots(2, 5, figsize=(15, 5))\n",
    "\n",
    "for i in range(2):\n",
    "    for j in range(5):\n",
    "        ax = axes[i][j]\n",
    "        ax.plot(ell, residue2[i*5 + j])"
   ]
  },
  {
   "cell_type": "code",
   "execution_count": null,
   "id": "79e5e7ef-22e5-48a2-9053-40b14382ad1d",
   "metadata": {},
   "outputs": [],
   "source": []
  },
  {
   "cell_type": "code",
   "execution_count": null,
   "id": "90048f26-f75f-43e3-97bb-ed4cb47869d9",
   "metadata": {},
   "outputs": [],
   "source": [
    "fig, axes = plt.subplots(2, 5, figsize=(15, 5))\n",
    "for i in range(2):\n",
    "    for j in range(5):\n",
    "        ax = axes[i][j]\n",
    "        ax.plot(ell, cls_modified2[i*5 + j])"
   ]
  },
  {
   "cell_type": "code",
   "execution_count": null,
   "id": "f1252591-e167-4c5e-9536-e35b4eb44cd0",
   "metadata": {
    "tags": []
   },
   "outputs": [],
   "source": [
    "cls_modified2[0]"
   ]
  },
  {
   "cell_type": "code",
   "execution_count": null,
   "id": "e6200270-963d-43fc-823a-08f6f63620f0",
   "metadata": {},
   "outputs": [],
   "source": []
  }
 ],
 "metadata": {
  "kernelspec": {
   "display_name": "py38",
   "language": "python",
   "name": "py38"
  },
  "language_info": {
   "codemirror_mode": {
    "name": "ipython",
    "version": 3
   },
   "file_extension": ".py",
   "mimetype": "text/x-python",
   "name": "python",
   "nbconvert_exporter": "python",
   "pygments_lexer": "ipython3",
   "version": "3.8.18"
  }
 },
 "nbformat": 4,
 "nbformat_minor": 5
}
